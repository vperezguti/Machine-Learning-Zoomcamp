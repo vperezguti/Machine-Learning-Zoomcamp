{
  "nbformat": 4,
  "nbformat_minor": 0,
  "metadata": {
    "colab": {
      "provenance": [],
      "authorship_tag": "ABX9TyPvAfXBztR4ti1mJdS2VUcA"
    },
    "kernelspec": {
      "name": "python3",
      "display_name": "Python 3"
    },
    "language_info": {
      "name": "python"
    }
  },
  "cells": [
    {
      "cell_type": "code",
      "source": [
        "#import pandas as pd\n",
        "\n",
        "#df = pd.read_csv('https://github.com/alexeygrigorev/datasets/raw/refs/heads/master/bank-full.csv', delimiter=';')"
      ],
      "metadata": {
        "id": "y3R_6EpIkY4Z"
      },
      "execution_count": 1,
      "outputs": []
    },
    {
      "cell_type": "code",
      "source": [
        "import pandas as pd\n",
        "\n",
        "df = pd.read_csv('/content/bank-full.csv', sep=';')\n",
        "\n",
        "# Muestra las primeras filas del DataFrame para verificar que se cargó correctamente\n",
        "print(df.head())"
      ],
      "metadata": {
        "colab": {
          "base_uri": "https://localhost:8080/"
        },
        "id": "ZkBB-SkQW6Ee",
        "outputId": "c7bb9315-be15-4665-e520-3f19e1a53986"
      },
      "execution_count": 3,
      "outputs": [
        {
          "output_type": "stream",
          "name": "stdout",
          "text": [
            "   age           job  marital  education default  balance housing loan  \\\n",
            "0   58    management  married   tertiary      no     2143     yes   no   \n",
            "1   44    technician   single  secondary      no       29     yes   no   \n",
            "2   33  entrepreneur  married  secondary      no        2     yes  yes   \n",
            "3   47   blue-collar  married    unknown      no     1506     yes   no   \n",
            "4   33       unknown   single    unknown      no        1      no   no   \n",
            "\n",
            "   contact  day month  duration  campaign  pdays  previous poutcome   y  \n",
            "0  unknown    5   may       261         1     -1         0  unknown  no  \n",
            "1  unknown    5   may       151         1     -1         0  unknown  no  \n",
            "2  unknown    5   may        76         1     -1         0  unknown  no  \n",
            "3  unknown    5   may        92         1     -1         0  unknown  no  \n",
            "4  unknown    5   may       198         1     -1         0  unknown  no  \n"
          ]
        }
      ]
    },
    {
      "cell_type": "markdown",
      "source": [
        "Split the data into 3 parts: train/validation/test with 60%/20%/20% distribution. Use train_test_split function for that with random_state=1"
      ],
      "metadata": {
        "id": "7IvPxTqvlzFy"
      }
    },
    {
      "cell_type": "code",
      "source": [
        "# Assuming 'y' is a column in your DataFrame 'df' that you want to convert.\n",
        "df['y'] = df['y'].map({'yes': 1, 'no': 0})\n",
        "\n",
        "print(df.head())"
      ],
      "metadata": {
        "colab": {
          "base_uri": "https://localhost:8080/"
        },
        "id": "KvSKAxs3rPAR",
        "outputId": "6553e14e-079c-4630-a29d-a3582189df1a"
      },
      "execution_count": 4,
      "outputs": [
        {
          "output_type": "stream",
          "name": "stdout",
          "text": [
            "   age           job  marital  education default  balance housing loan  \\\n",
            "0   58    management  married   tertiary      no     2143     yes   no   \n",
            "1   44    technician   single  secondary      no       29     yes   no   \n",
            "2   33  entrepreneur  married  secondary      no        2     yes  yes   \n",
            "3   47   blue-collar  married    unknown      no     1506     yes   no   \n",
            "4   33       unknown   single    unknown      no        1      no   no   \n",
            "\n",
            "   contact  day month  duration  campaign  pdays  previous poutcome  y  \n",
            "0  unknown    5   may       261         1     -1         0  unknown  0  \n",
            "1  unknown    5   may       151         1     -1         0  unknown  0  \n",
            "2  unknown    5   may        76         1     -1         0  unknown  0  \n",
            "3  unknown    5   may        92         1     -1         0  unknown  0  \n",
            "4  unknown    5   may       198         1     -1         0  unknown  0  \n"
          ]
        }
      ]
    },
    {
      "cell_type": "code",
      "source": [
        "from sklearn.model_selection import train_test_split"
      ],
      "metadata": {
        "id": "Mau04wIJlQae"
      },
      "execution_count": 5,
      "outputs": []
    },
    {
      "cell_type": "code",
      "source": [
        "df_full_train, df_test = train_test_split(df, test_size=0.2, random_state=1)\n",
        "df_train, df_val = train_test_split(df_full_train, test_size=0.25, random_state=1)"
      ],
      "metadata": {
        "id": "9mS_J5LMl1LY"
      },
      "execution_count": 6,
      "outputs": []
    },
    {
      "cell_type": "markdown",
      "source": [
        "**Question 1: ROC AUC feature importance**\n",
        "\n",
        "ROC AUC could also be used to evaluate feature importance of numerical variables.\n",
        "\n",
        "Let's do that\n",
        "\n",
        "For each numerical variable, use it as score (aka prediction) and compute the AUC with the y variable as ground truth.\n",
        "\n",
        "Use the training dataset for that\n",
        "\n",
        "\n",
        "If your AUC is < 0.5, invert this variable by putting \"-\" in front\n",
        "\n",
        "(e.g. -df_train['engine_hp'])\n",
        "\n",
        "AUC can go below 0.5 if the variable is negatively correlated with the target variable. You can change the direction of the correlation by negating this variable - then negative correlation becomes positive.\n",
        "\n",
        "Which numerical variable (among the following 4) has the highest AUC?\n",
        "\n",
        "balance\n",
        "day\n",
        "duration\n",
        "previous"
      ],
      "metadata": {
        "id": "lLKdc0Fpmjii"
      }
    },
    {
      "cell_type": "code",
      "source": [
        "\n",
        "from sklearn.metrics import roc_auc_score\n",
        "\n",
        "numerical_features = ['balance', 'day', 'duration', 'previous']\n",
        "auc_scores = {}\n",
        "\n",
        "for feature in numerical_features:\n",
        "    auc = roc_auc_score(df_train['y'], df_train[feature])\n",
        "    if auc < 0.5:\n",
        "        auc = roc_auc_score(df_train['y'], -df_train[feature])\n",
        "        auc_scores[feature] = auc\n",
        "    else:\n",
        "      auc_scores[feature] = auc\n",
        "\n",
        "max_auc_feature = max(auc_scores, key=auc_scores.get)\n",
        "\n",
        "print(auc_scores)\n",
        "print(f\"The numerical variable with the highest AUC is: {max_auc_feature}\")"
      ],
      "metadata": {
        "colab": {
          "base_uri": "https://localhost:8080/"
        },
        "id": "mSOjRXBzl0FL",
        "outputId": "e34b68e3-7fbd-4cb8-edcb-241466a75244"
      },
      "execution_count": 8,
      "outputs": [
        {
          "output_type": "stream",
          "name": "stdout",
          "text": [
            "{'balance': 0.5888313805382317, 'day': 0.525957882383908, 'duration': 0.8147002759670778, 'previous': 0.5985653242764153}\n",
            "The numerical variable with the highest AUC is: duration\n"
          ]
        }
      ]
    },
    {
      "cell_type": "markdown",
      "source": [
        "**Question 2: Training the model**\n",
        "\n",
        "Apply one-hot-encoding using DictVectorizer and train the logistic regression with these parameters:\n",
        "\n",
        "LogisticRegression(solver='liblinear', C=1.0, max_iter=1000)\n",
        "\n",
        "What's the AUC of this model on the validation dataset? (round to 3 digits)\n",
        "\n",
        "0.69\n",
        "\n",
        "0.79\n",
        "\n",
        "0.89\n",
        "\n",
        "0.99"
      ],
      "metadata": {
        "id": "bFWlSvqqoutM"
      }
    },
    {
      "cell_type": "code",
      "source": [
        "\n",
        "\n",
        "from sklearn.feature_extraction import DictVectorizer\n",
        "from sklearn.linear_model import LogisticRegression\n",
        "\n",
        "# Prepare the data for one-hot encoding\n",
        "train_dicts = df_train.drop('y', axis=1).to_dict(orient='records')\n",
        "val_dicts = df_val.drop('y', axis=1).to_dict(orient='records')\n",
        "\n",
        "# Apply one-hot encoding\n",
        "dv = DictVectorizer(sparse=False)\n",
        "X_train = dv.fit_transform(train_dicts)\n",
        "X_val = dv.transform(val_dicts)\n",
        "\n",
        "y_train = df_train['y']\n",
        "y_val = df_val['y']\n",
        "\n",
        "# Train the logistic regression model\n",
        "model = LogisticRegression(solver='liblinear', C=1.0, max_iter=1000)\n",
        "model.fit(X_train, y_train)\n",
        "\n",
        "# Make predictions on the validation set\n",
        "y_pred = model.predict_proba(X_val)[:, 1]\n",
        "\n",
        "# Calculate AUC\n",
        "auc = roc_auc_score(y_val, y_pred)\n",
        "\n",
        "print(f\"AUC on the validation dataset: {auc:.3f}\")"
      ],
      "metadata": {
        "colab": {
          "base_uri": "https://localhost:8080/"
        },
        "id": "TdNKgw4Jow07",
        "outputId": "7ce79f2a-7ba0-48fc-85e8-b37a9f8f2f82"
      },
      "execution_count": 9,
      "outputs": [
        {
          "output_type": "stream",
          "name": "stdout",
          "text": [
            "AUC on the validation dataset: 0.901\n"
          ]
        }
      ]
    },
    {
      "cell_type": "markdown",
      "source": [
        "**Question 3: Precision and Recall**\n",
        "\n",
        "Now let's compute precision and recall for our model.\n",
        "\n",
        "Evaluate the model on all thresholds from 0.0 to 1.0 with step 0.01\n",
        "For each threshold, compute precision and recall\n",
        "Plot them\n",
        "\n",
        "At which threshold precision and recall curves intersect?\n",
        "\n",
        "0.265\n",
        "\n",
        "0.465\n",
        "\n",
        "0.665\n",
        "\n",
        "0.865"
      ],
      "metadata": {
        "id": "bmzH5LGdpShX"
      }
    },
    {
      "cell_type": "code",
      "source": [
        "# prompt: Now let's compute precision and recall for our model.\n",
        "# Evaluate the model on all thresholds from 0.0 to 1.0 with step 0.01 For each threshold, compute precision and recall Plot them with division lines each 0.01\n",
        "# At which threshold precision and recall curves intersect?\n",
        "\n",
        "import matplotlib.pyplot as plt\n",
        "\n",
        "def calculate_precision_recall(y_true, y_pred_proba, threshold):\n",
        "  y_pred = (y_pred_proba >= threshold).astype(int)\n",
        "  tp = ((y_true == 1) & (y_pred == 1)).sum()\n",
        "  fp = ((y_true == 0) & (y_pred == 1)).sum()\n",
        "  fn = ((y_true == 1) & (y_pred == 0)).sum()\n",
        "\n",
        "  if tp == 0:\n",
        "    precision = 0\n",
        "    recall = 0\n",
        "  else:\n",
        "    precision = tp / (tp + fp)\n",
        "    recall = tp / (tp + fn)\n",
        "\n",
        "  return precision, recall\n",
        "\n",
        "thresholds = [i/100 for i in range(0, 100)]\n",
        "precisions = []\n",
        "recalls = []\n",
        "\n",
        "for threshold in thresholds:\n",
        "  precision, recall = calculate_precision_recall(y_val, y_pred, threshold)\n",
        "  precisions.append(precision)\n",
        "  recalls.append(recall)\n",
        "\n",
        "\n",
        "# Find the intersection point\n",
        "intersection_threshold = None\n",
        "for i in range(len(thresholds)):\n",
        "  if abs(precisions[i] - recalls[i]) < 0.01:\n",
        "    intersection_threshold = thresholds[i]\n",
        "    break\n",
        "\n",
        "\n",
        "plt.plot(thresholds, precisions, label='Precision')\n",
        "plt.plot(thresholds, recalls, label='Recall')\n",
        "plt.xlabel('Threshold')\n",
        "plt.ylabel('Value')\n",
        "plt.title('Precision and Recall vs. Threshold')\n",
        "plt.legend()\n",
        "plt.grid(True)\n",
        "plt.show()\n",
        "\n",
        "\n",
        "print(f\"Intersection point approximately at threshold: {intersection_threshold:.3f}\")"
      ],
      "metadata": {
        "colab": {
          "base_uri": "https://localhost:8080/",
          "height": 490
        },
        "id": "8fmCxCexpXNn",
        "outputId": "701d0ca6-792c-4466-a59a-99d237f4a942"
      },
      "execution_count": 10,
      "outputs": [
        {
          "output_type": "display_data",
          "data": {
            "text/plain": [
              "<Figure size 640x480 with 1 Axes>"
            ],
            "image/png": "[encoded data removed]"
          },
          "metadata": {}
        },
        {
          "output_type": "stream",
          "name": "stdout",
          "text": [
            "Intersection point approximately at threshold: 0.260\n"
          ]
        }
      ]
    },
    {
      "cell_type": "markdown",
      "source": [
        "**Question 4:**\n",
        "F1 score\n",
        "Precision and recall are conflicting - when one grows, the other goes down. That's why they are often combined into the F1 score - a metrics that takes into account both\n",
        "\n",
        "This is the formula for computing F1:\n",
        "F1 = (2*P*R)/(P+R)\n",
        "\n",
        "Where\n",
        "P\n",
        " is precision and\n",
        "R\n",
        " is recall.\n",
        "\n",
        "Let's compute F1 for all thresholds from 0.0 to 1.0 with increment 0.01\n",
        "\n",
        "At which threshold F1 is maximal?\n",
        "\n",
        "0.02\n",
        "0.22\n",
        "0.42\n",
        "0.62\n"
      ],
      "metadata": {
        "id": "sDbE_6qYVWQA"
      }
    },
    {
      "cell_type": "code",
      "source": [
        "print(precisions)\n",
        "print(recalls)"
      ],
      "metadata": {
        "id": "yE_RVjmPrFG5"
      },
      "execution_count": null,
      "outputs": []
    },
    {
      "cell_type": "code",
      "source": [
        "import pandas as pd\n",
        "from sklearn.model_selection import train_test_split\n",
        "from sklearn.metrics import roc_auc_score\n",
        "from sklearn.feature_extraction import DictVectorizer\n",
        "from sklearn.linear_model import LogisticRegression\n",
        "import matplotlib.pyplot as plt\n",
        "\n",
        "# Assuming you have the 'bank-full.csv' file in the same directory\n",
        "df = pd.read_csv('bank-full.csv', sep=';')\n",
        "\n",
        "# Map 'y' to numerical values\n",
        "df['y'] = df['y'].map({'yes': 1, 'no': 0})\n",
        "\n",
        "# Split the data\n",
        "df_full_train, df_test = train_test_split(df, test_size=0.2, random_state=1)\n",
        "df_train, df_val = train_test_split(df_full_train, test_size=0.25, random_state=1)\n",
        "\n",
        "# ... (Previous code for AUC and training the model) ...\n",
        "\n",
        "def calculate_precision_recall(y_true, y_pred_proba, threshold):\n",
        "    y_pred = (y_pred_proba >= threshold).astype(int)\n",
        "    tp = ((y_true == 1) & (y_pred == 1)).sum()\n",
        "    fp = ((y_true == 0) & (y_pred == 1)).sum()\n",
        "    fn = ((y_true == 1) & (y_pred == 0)).sum()\n",
        "\n",
        "    if tp == 0:\n",
        "        precision = 0\n",
        "        recall = 0\n",
        "    else:\n",
        "        precision = tp / (tp + fp)\n",
        "        recall = tp / (tp + fn)\n",
        "\n",
        "    return precision, recall\n",
        "\n",
        "thresholds = [i / 100 for i in range(0, 101)]\n",
        "f1_scores = []\n",
        "\n",
        "for threshold in thresholds:\n",
        "    precision, recall = calculate_precision_recall(y_val, y_pred, threshold)\n",
        "    if precision + recall == 0:\n",
        "        f1 = 0\n",
        "    else:\n",
        "        f1 = (2 * precision * recall) / (precision + recall)\n",
        "    f1_scores.append(f1)\n",
        "\n",
        "# Find the threshold with the maximal F1 score\n",
        "max_f1_score = max(f1_scores)\n",
        "max_f1_threshold = thresholds[f1_scores.index(max_f1_score)]\n",
        "\n",
        "plt.plot(thresholds, f1_scores)\n",
        "plt.xlabel('Threshold')\n",
        "plt.ylabel('F1 Score')\n",
        "plt.title('F1 Score vs. Threshold')\n",
        "plt.grid(True)\n",
        "plt.show()\n",
        "\n",
        "print(f\"The maximal F1 score is: {max_f1_score:.3f}\")\n",
        "print(f\"The threshold at which F1 is maximal is: {max_f1_threshold:.2f}\")"
      ],
      "metadata": {
        "colab": {
          "base_uri": "https://localhost:8080/",
          "height": 509
        },
        "id": "taHZ7t2jYqPD",
        "outputId": "b711556c-0dcb-4a4c-a873-3eeae448c519"
      },
      "execution_count": 11,
      "outputs": [
        {
          "output_type": "display_data",
          "data": {
            "text/plain": [
              "<Figure size 640x480 with 1 Axes>"
            ],
            "image/png": "[encoded data removed]"
          },
          "metadata": {}
        },
        {
          "output_type": "stream",
          "name": "stdout",
          "text": [
            "The maximal F1 score is: 0.567\n",
            "The threshold at which F1 is maximal is: 0.19\n"
          ]
        }
      ]
    },
    {
      "cell_type": "markdown",
      "source": [
        "**Question 5: 5-Fold CV**\n",
        "\n",
        "Use the KFold class from Scikit-Learn to evaluate our model on 5 different folds:\n",
        "\n",
        "KFold(n_splits=5, shuffle=True, random_state=1)\n",
        "\n",
        "Iterate over different folds of df_full_train\n",
        "Split the data into train and validation\n",
        "\n",
        "Train the model on train with these parameters: LogisticRegression(solver='liblinear', C=1.0, max_iter=1000)\n",
        "\n",
        "Use AUC to evaluate the model on validation\n",
        "How large is standard deviation of the scores across different folds?\n",
        "\n",
        "0.0001\n",
        "0.006\n",
        "0.06\n",
        "0.26"
      ],
      "metadata": {
        "id": "enJbXIfn69vQ"
      }
    },
    {
      "cell_type": "code",
      "source": [
        "import numpy as np\n",
        "from sklearn.model_selection import KFold\n",
        "\n",
        "# ... (Previous code for data preparation and model training) ...\n",
        "\n",
        "n_splits = 5\n",
        "scores = []\n",
        "kfold = KFold(n_splits=n_splits, shuffle=True, random_state=1)\n",
        "\n",
        "for train_idx, val_idx in kfold.split(df_full_train):\n",
        "    df_train = df_full_train.iloc[train_idx]\n",
        "    df_val = df_full_train.iloc[val_idx]\n",
        "\n",
        "    train_dicts = df_train.drop('y', axis=1).to_dict(orient='records')\n",
        "    val_dicts = df_val.drop('y', axis=1).to_dict(orient='records')\n",
        "\n",
        "    dv = DictVectorizer(sparse=False)\n",
        "    X_train = dv.fit_transform(train_dicts)\n",
        "    X_val = dv.transform(val_dicts)\n",
        "\n",
        "    y_train = df_train['y']\n",
        "    y_val = df_val['y']\n",
        "\n",
        "    model = LogisticRegression(solver='liblinear', C=1.0, max_iter=1000)\n",
        "    model.fit(X_train, y_train)\n",
        "\n",
        "    y_pred = model.predict_proba(X_val)[:, 1]\n",
        "    auc = roc_auc_score(y_val, y_pred)\n",
        "    scores.append(auc)\n",
        "\n",
        "std_dev = np.std(scores)\n",
        "print(f\"Standard deviation of AUC scores across folds: {std_dev:.3f}\")"
      ],
      "metadata": {
        "colab": {
          "base_uri": "https://localhost:8080/"
        },
        "id": "t2in_RPV7N1H",
        "outputId": "fe5f58ee-0a68-4f9c-b1cb-075b2b9f8a01"
      },
      "execution_count": 14,
      "outputs": [
        {
          "output_type": "stream",
          "name": "stdout",
          "text": [
            "Standard deviation of AUC scores across folds: 0.005\n"
          ]
        }
      ]
    },
    {
      "cell_type": "markdown",
      "source": [
        "**Question 6:**\n",
        "\n",
        "Hyperparameter Tuning\n",
        "Now let's use 5-Fold cross-validation to find the best parameter C\n",
        "\n",
        "Iterate over the following C values: [0.000001, 0.001, 1]\n",
        "\n",
        "Initialize KFold with the same parameters as previously\n",
        "\n",
        "Use these parameters for the model:\n",
        "\n",
        "LogisticRegression(solver='liblinear', C=C, max_iter=1000)\n",
        "\n",
        "Compute the mean score as well as the std (round the mean and std to 3 decimal digits)\n",
        "Which C leads to the best mean score?\n",
        "\n",
        "0.000001\n",
        "\n",
        "0.001\n",
        "\n",
        "1\n",
        "\n",
        "If you have ties, select the score with the lowest std. If you still have ties, select the smallest C."
      ],
      "metadata": {
        "id": "J6CdDisq76Nc"
      }
    },
    {
      "cell_type": "code",
      "source": [
        "n_splits = 5\n",
        "C_values = [0.000001, 0.001, 1]\n",
        "results = {}\n",
        "\n",
        "for C in C_values:\n",
        "  scores = []\n",
        "  kfold = KFold(n_splits=n_splits, shuffle=True, random_state=1)\n",
        "\n",
        "  for train_idx, val_idx in kfold.split(df_full_train):\n",
        "      df_train = df_full_train.iloc[train_idx]\n",
        "      df_val = df_full_train.iloc[val_idx]\n",
        "\n",
        "      train_dicts = df_train.drop('y', axis=1).to_dict(orient='records')\n",
        "      val_dicts = df_val.drop('y', axis=1).to_dict(orient='records')\n",
        "\n",
        "      dv = DictVectorizer(sparse=False)\n",
        "      X_train = dv.fit_transform(train_dicts)\n",
        "      X_val = dv.transform(val_dicts)\n",
        "\n",
        "      y_train = df_train['y']\n",
        "      y_val = df_val['y']\n",
        "\n",
        "      model = LogisticRegression(solver='liblinear', C=C, max_iter=1000)\n",
        "      model.fit(X_train, y_train)\n",
        "\n",
        "      y_pred = model.predict_proba(X_val)[:, 1]\n",
        "      auc = roc_auc_score(y_val, y_pred)\n",
        "      scores.append(auc)\n",
        "\n",
        "  mean_score = np.mean(scores)\n",
        "  std_score = np.std(scores)\n",
        "  results[C] = (mean_score, std_score)\n",
        "\n",
        "# Find the best C based on mean score and standard deviation\n",
        "best_C = None\n",
        "best_mean_score = -1\n",
        "lowest_std = float('inf')\n",
        "\n",
        "for C, (mean_score, std_score) in results.items():\n",
        "    if mean_score > best_mean_score:\n",
        "        best_mean_score = mean_score\n",
        "        best_C = C\n",
        "        lowest_std = std_score\n",
        "    elif mean_score == best_mean_score and std_score < lowest_std:\n",
        "        best_C = C\n",
        "        lowest_std = std_score\n",
        "\n",
        "print(f\"Results: {results}\")\n",
        "print(f\"The best C is: {best_C}\")\n"
      ],
      "metadata": {
        "colab": {
          "base_uri": "https://localhost:8080/"
        },
        "id": "z3GiJ6Rw7dtQ",
        "outputId": "e97f038a-489c-431a-8c86-e5265cb41a42"
      },
      "execution_count": 15,
      "outputs": [
        {
          "output_type": "stream",
          "name": "stdout",
          "text": [
            "Results: {1e-06: (0.7015756963414919, 0.009451497869297436), 0.001: (0.865462383964769, 0.007275365601673848), 1: (0.9068616933183498, 0.005398443893771979)}\n",
            "The best C is: 1\n"
          ]
        }
      ]
    }
  ]
}